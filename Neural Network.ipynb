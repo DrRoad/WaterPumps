{
 "cells": [
  {
   "cell_type": "code",
   "execution_count": 15,
   "metadata": {
    "collapsed": false
   },
   "outputs": [],
   "source": [
    "import pandas as pd\n",
    "import numpy as np\n",
    "\n",
    "# Just load up our precleaned data\n",
    "cleaned_train = pd.read_csv('cleaned_train.csv')\n",
    "cleaned_test = pd.read_csv('cleaned_test.csv')\n",
    "target = pd.read_csv('YS.csv')\n",
    "cols = np.intersect1d(cleaned_train.columns, cleaned_test.columns) # ONLY use the columns that exist for both"
   ]
  },
  {
   "cell_type": "code",
   "execution_count": 3,
   "metadata": {
    "collapsed": true
   },
   "outputs": [],
   "source": [
    "centered = cleaned_train[cols] - cleaned_train[cols].mean()\n",
    "centered = centered / centered.std()"
   ]
  },
  {
   "cell_type": "code",
   "execution_count": 18,
   "metadata": {
    "collapsed": false
   },
   "outputs": [],
   "source": [
    "from sklearn.model_selection import train_test_split\n",
    "X_train, X_test, y_train, y_test = train_test_split(centered, target, test_size=0.2, random_state=0)"
   ]
  },
  {
   "cell_type": "code",
   "execution_count": null,
   "metadata": {
    "collapsed": false
   },
   "outputs": [
    {
     "name": "stdout",
     "output_type": "stream",
     "text": [
      "Train on 38016 samples, validate on 9504 samples\n",
      "Epoch 1/100\n",
      "38016/38016 [==============================] - 3s - loss: 1.7427 - acc: 0.3152 - val_loss: 1.2863 - val_acc: 0.3795\n",
      "Epoch 2/100\n",
      "38016/38016 [==============================] - 3s - loss: 1.3257 - acc: 0.4428 - val_loss: 1.0107 - val_acc: 0.5550\n",
      "Epoch 3/100\n",
      "18752/38016 [=============>................] - ETA: 1s - loss: 1.1454 - acc: 0.5194"
     ]
    }
   ],
   "source": [
    "from keras.models import Sequential\n",
    "from keras.layers import Dense, Activation, Dropout, Flatten\n",
    "from keras.wrappers.scikit_learn import KerasClassifier\n",
    "from keras.layers.convolutional import Convolution1D\n",
    "from sklearn.model_selection import cross_val_score\n",
    "from sklearn.preprocessing import OneHotEncoder, LabelEncoder\n",
    "from keras.optimizers import SGD, Adam\n",
    "from keras.regularizers import WeightRegularizer\n",
    "from sklearn.metrics import accuracy_score\n",
    "\n",
    "def keras_model():\n",
    "    adam = Adam(lr=0.01)\n",
    "    model = Sequential() # make a model in a linear stack of layers\n",
    "    model.add(Dense(64, input_dim=290, activation=\"relu\"))\n",
    "    model.add(Dropout(.5))\n",
    "    model.add(Dense(64, activation=\"relu\"))\n",
    "    model.add(Dropout(.5))\n",
    "    model.add(Dense(output_dim=3, activation=\"softmax\"))\n",
    "    model.compile(loss='categorical_crossentropy', optimizer=\"adagrad\", metrics=['accuracy'])\n",
    "    return model\n",
    "\n",
    "adam = Adam(lr=0.00003)\n",
    "kc = Sequential()\n",
    "kc.add(Dense(16, input_shape=(290,), activation=\"relu\"))\n",
    "kc.add(Dropout(.5))\n",
    "kc.add(Dense(3, activation='softmax'))\n",
    "kc.compile(optimizer=adam, loss='categorical_crossentropy',metrics=['accuracy'])\n",
    "\n",
    "# kc = KerasClassifier(keras_model)\n",
    "# kc = keras_model()\n",
    "kc.fit(X_train.as_matrix(), pd.get_dummies(y_train).as_matrix(), validation_split=0.2, nb_epoch=100, batch_size=32)\n",
    "\n",
    "predicted = kc.predict_classes(X_test.as_matrix())\n",
    "# actual = y_test.map({\n",
    "#         \"functional\": 0,\n",
    "#         \"functional needs repair\": 1,\n",
    "#         \"non functional\": 2\n",
    "#     }).values\n",
    "\n",
    "\n",
    "# print(pd.Series(predicted).value_counts())\n",
    "# accuracy_score(predicted, actual)\n",
    "\n",
    "# loss: 0.6152\n",
    "# val_acc: 0.7570"
   ]
  }
 ],
 "metadata": {
  "kernelspec": {
   "display_name": "Python [sci]",
   "language": "python",
   "name": "Python [sci]"
  },
  "language_info": {
   "codemirror_mode": {
    "name": "ipython",
    "version": 3
   },
   "file_extension": ".py",
   "mimetype": "text/x-python",
   "name": "python",
   "nbconvert_exporter": "python",
   "pygments_lexer": "ipython3",
   "version": "3.5.2"
  }
 },
 "nbformat": 4,
 "nbformat_minor": 0
}
